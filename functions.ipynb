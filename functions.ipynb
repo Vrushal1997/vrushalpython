{
 "cells": [
  {
   "cell_type": "code",
   "execution_count": 1,
   "metadata": {},
   "outputs": [],
   "source": [
    "#functions\n"
   ]
  },
  {
   "cell_type": "code",
   "execution_count": 2,
   "metadata": {},
   "outputs": [
    {
     "name": "stdout",
     "output_type": "stream",
     "text": [
      "Hey hoo\n",
      "function resturs  hii\n"
     ]
    }
   ],
   "source": [
    "def showdata():\n",
    "    print(\"Hey hoo\")\n",
    "    return\"hii\"\n",
    "function_return_value = showdata()\n",
    "print(\"function resturs \",function_return_value)"
   ]
  },
  {
   "cell_type": "code",
   "execution_count": 5,
   "metadata": {},
   "outputs": [
    {
     "name": "stdout",
     "output_type": "stream",
     "text": [
      "is odd 11\n"
     ]
    }
   ],
   "source": [
    "def is_even(num):\n",
    "    if num%2 == 0:\n",
    "        return\"is even %s\"%(num)\n",
    "    else:\n",
    "        return\"is odd %s\"%(num)\n",
    "print(is_even(11))"
   ]
  },
  {
   "cell_type": "code",
   "execution_count": 7,
   "metadata": {},
   "outputs": [
    {
     "name": "stdout",
     "output_type": "stream",
     "text": [
      "is odd 11\n"
     ]
    }
   ],
   "source": [
    " def is_even(num=2):\n",
    "    if num%2 == 0:\n",
    "        return\"is even %s\"%(num)\n",
    "    else:\n",
    "        return\"is odd %s\"%(num)\n",
    "print(is_even(11))"
   ]
  },
  {
   "cell_type": "code",
   "execution_count": 8,
   "metadata": {},
   "outputs": [],
   "source": [
    "#multiple argumenst"
   ]
  },
  {
   "cell_type": "code",
   "execution_count": null,
   "metadata": {},
   "outputs": [],
   "source": [
    " "
   ]
  }
 ],
 "metadata": {
  "kernelspec": {
   "display_name": "Python 3",
   "language": "python",
   "name": "python3"
  },
  "language_info": {
   "codemirror_mode": {
    "name": "ipython",
    "version": 3
   },
   "file_extension": ".py",
   "mimetype": "text/x-python",
   "name": "python",
   "nbconvert_exporter": "python",
   "pygments_lexer": "ipython3",
   "version": "3.7.4"
  }
 },
 "nbformat": 4,
 "nbformat_minor": 2
}
